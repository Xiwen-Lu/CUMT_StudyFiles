{
 "cells": [
  {
   "cell_type": "markdown",
   "metadata": {},
   "source": [
    "赛题的name有乱序部分，此处统一将其全部重置为标准命名，均以\"{id}.jpg\"命名\n",
    "此外，针对数据集中可能存在的标注问题，暂时不予以清洗"
   ]
  },
  {
   "cell_type": "code",
   "execution_count": 10,
   "metadata": {},
   "outputs": [],
   "source": [
    "import os\n",
    "import shutil\n",
    "import json\n",
    "import xml.etree.ElementTree as ET"
   ]
  },
  {
   "cell_type": "code",
   "execution_count": 10,
   "metadata": {},
   "outputs": [],
   "source": [
    "# 该函数并非标椎意义重命名，主体上执行了复制并重命名的操作\n",
    "def rename_All(pathDir,saveDir,filetype):\n",
    "    '''\n",
    "    :pathDir:需要转换的文件目录\n",
    "    :saveDir:保存转换后文件的目录\n",
    "    :filetype:转换的后缀\n",
    "    '''\n",
    "    filelist = os.listdir(pathDir)\n",
    "    id = 0\n",
    "    for file in filelist:\n",
    "        id += 1\n",
    "        Oldname = os.path.join(pathDir,file)\n",
    "        Newname = os.path.join(saveDir,\"{0}.{1}\".format(id,filetype))\n",
    "        #print(\"old name: {}\".format(Oldname))\n",
    "        #print(\"new name: {}\".format(Newname))\n",
    "        shutil.copyfile(Oldname,Newname)\n",
    "       "
   ]
  },
  {
   "cell_type": "code",
   "execution_count": 13,
   "metadata": {},
   "outputs": [],
   "source": [
    "rename_All(\"VOC2007\\Annotations\",\"shape\\Annotations\",\"xml\")"
   ]
  },
  {
   "cell_type": "code",
   "execution_count": 26,
   "metadata": {},
   "outputs": [],
   "source": [
    "def resave_xml(pathDir):\n",
    "    filelist = os.listdir(pathDir)\n",
    "    for file in filelist:\n",
    "        filepath = os.path.join(pathDir,file)\n",
    "        tree = ET.parse(filepath)\n",
    "        root = tree.getroot()\n",
    "        root.find('filename').text = \"{0}.jpg\".format(os.path.splitext(file)[0])\n",
    "        tree.write(filepath)"
   ]
  },
  {
   "cell_type": "code",
   "execution_count": 27,
   "metadata": {},
   "outputs": [],
   "source": [
    "resave_xml(\"shape\\Annotations\")"
   ]
  },
  {
   "cell_type": "code",
   "execution_count": 61,
   "metadata": {},
   "outputs": [],
   "source": [
    "def rename_by_namelines(txtfileName=\"./VOC2007/ImageSets/Main/trainval.txt\"):\n",
    "    pathDir = \"VOC2007\"\n",
    "    saveDir = \"hwy2020\"\n",
    "    ch2en_dict_name = \"ch2en_dict.json\"\n",
    "    ch2en_dict = {}\n",
    "    \n",
    "    with open(ch2en_dict_name,\"r\") as f:\n",
    "        ch2en_dict = json.load(f)\n",
    "    \n",
    "    with open(txtfileName,\"r\") as f:\n",
    "        id = 0\n",
    "        for line in f.readlines():\n",
    "            id += 1\n",
    "            if id%1000==1:print(\"已处理完成{}张图片\".format(id))\n",
    "            filename = line.strip('\\n')\n",
    "            Oldname = os.path.join(pathDir,\"JPEGImages\",\"{0}.jpg\".format(filename))\n",
    "            Newname = os.path.join(saveDir,\"JPEGImages\",\"{0}.jpg\".format(id))\n",
    "#             print(\"old name: {}\".format(Oldname))\n",
    "#             print(\"new name: {}\".format(Newname))\n",
    "            shutil.copyfile(Oldname,Newname)\n",
    "\n",
    "            Oldname = os.path.join(pathDir,\"Annotations\",\"{0}.xml\".format(filename))\n",
    "            Newname = os.path.join(saveDir,\"Annotations\",\"{0}.xml\".format(id))\n",
    "#             print(\"old name: {}\".format(Oldname))\n",
    "#             print(\"new name: {}\".format(Newname))\n",
    "            tree = ET.parse(Oldname)\n",
    "            root = tree.getroot()\n",
    "            root.find('filename').text = \"{0}.jpg\".format(id)\n",
    "            if root.findall('object') == []:\n",
    "                print(\"{} 中没有物体标注，其新文件名为{}\".format(Oldname,Newname))\n",
    "            else:\n",
    "                for object in root.findall('object'):\n",
    "                    for x in object.iter('name'):\n",
    "                        x.text = ch2en_dict[x.text]\n",
    "    #                     print(x.text)\n",
    "            tree.write(Newname)\n"
   ]
  },
  {
   "cell_type": "code",
   "execution_count": 62,
   "metadata": {},
   "outputs": [
    {
     "name": "stdout",
     "output_type": "stream",
     "text": [
      "已处理完成1张图片\n",
      "已处理完成1001张图片\n",
      "已处理完成2001张图片\n",
      "已处理完成3001张图片\n",
      "已处理完成4001张图片\n",
      "已处理完成5001张图片\n",
      "已处理完成6001张图片\n",
      "已处理完成7001张图片\n",
      "已处理完成8001张图片\n",
      "已处理完成9001张图片\n",
      "已处理完成10001张图片\n",
      "已处理完成11001张图片\n",
      "已处理完成12001张图片\n",
      "已处理完成13001张图片\n",
      "已处理完成14001张图片\n"
     ]
    }
   ],
   "source": [
    "rename_by_namelines()"
   ]
  },
  {
   "cell_type": "code",
   "execution_count": 60,
   "metadata": {},
   "outputs": [
    {
     "name": "stdout",
     "output_type": "stream",
     "text": [
      "none filename\n",
      "a\n",
      "b\n"
     ]
    }
   ],
   "source": [
    "tree = ET.parse(\"test.xml\")\n",
    "root = tree.getroot()\n",
    "if root.find('filename') is not None:\n",
    "    root.find('filename').text = \"{0}.jpg\".format(id)\n",
    "else:\n",
    "    print(\"none filename\")\n",
    "\n",
    "    \n",
    "print(\"a\")\n",
    "if root.findall('object') == []:\n",
    "    print(\"b\")"
   ]
  },
  {
   "cell_type": "code",
   "execution_count": null,
   "metadata": {},
   "outputs": [],
   "source": []
  }
 ],
 "metadata": {
  "kernelspec": {
   "display_name": "Python [conda root]",
   "language": "python",
   "name": "conda-root-py"
  },
  "language_info": {
   "codemirror_mode": {
    "name": "ipython",
    "version": 3
   },
   "file_extension": ".py",
   "mimetype": "text/x-python",
   "name": "python",
   "nbconvert_exporter": "python",
   "pygments_lexer": "ipython3",
   "version": "3.6.8"
  }
 },
 "nbformat": 4,
 "nbformat_minor": 2
}
